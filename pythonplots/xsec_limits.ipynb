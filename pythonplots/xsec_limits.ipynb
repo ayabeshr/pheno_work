{
 "cells": [
  {
   "cell_type": "code",
   "execution_count": 1,
   "id": "f873847f",
   "metadata": {},
   "outputs": [],
   "source": [
    "import os \n",
    "import matplotlib\n",
    "from matplotlib import pyplot as plt "
   ]
  },
  {
   "cell_type": "code",
   "execution_count": 13,
   "id": "5779347f",
   "metadata": {},
   "outputs": [
    {
     "data": {
      "image/png": "[encoded data removed]",
      "text/plain": [
       "<Figure size 432x288 with 1 Axes>"
      ]
     },
     "metadata": {
      "needs_background": "light"
     },
     "output_type": "display_data"
    }
   ],
   "source": [
    "xsec_order = [0, 1, 2, 3, 4, 5, 6, 7, 8, 9, 10, 20, 30, 40, 50, 60, 70, 80, 90, 100,\n",
    "              200, 300, 400, 500, 600, 700, 800, 900, 1000]\n",
    "\n",
    "nexp = [0, 0.03, 0.06, 0.09, 0.12, 0.15, 0.18, 0.21, 0.24, 0.27, 0.3, 0.6, 0.9,\n",
    "        1.2, 1.5, 1.8, 2.1, 2.4, 2.7, 3, 6, 9, 12, 15, 18, 21, 24, 27, 30]\n",
    "\n",
    "plt.scatter(xsec_order, nexp, color = \"red\", label = r\"$3000 fb^{-1}$ @ 14TeV\")\n",
    "plt.semilogx([xsec_order], [nexp])\n",
    "plt.xlabel(r\"$\\sigma_{order}$\"+\" (fb)\")\n",
    "plt.ylabel(r\"$N_{expected}$\")\n",
    "plt.grid(True)\n",
    "plt.legend(loc = \"upper left\")\n",
    "#plt.show()\n",
    "plt.savefig('/home/aya/Pheno_Work/analysis/data_plots/newplots/Nexp_xsc.png')"
   ]
  },
  {
   "cell_type": "code",
   "execution_count": 9,
   "id": "4a5a240a",
   "metadata": {},
   "outputs": [
    {
     "name": "stdout",
     "output_type": "stream",
     "text": [
      "$\\sigma_{order}$ (pb)\n"
     ]
    }
   ],
   "source": [
    "print(r\"$\\sigma_{order}$\"+ \" (pb)\")\n"
   ]
  },
  {
   "cell_type": "code",
   "execution_count": null,
   "id": "da676034",
   "metadata": {},
   "outputs": [],
   "source": []
  }
 ],
 "metadata": {
  "kernelspec": {
   "display_name": "Python 3",
   "language": "python",
   "name": "python3"
  },
  "language_info": {
   "codemirror_mode": {
    "name": "ipython",
    "version": 3
   },
   "file_extension": ".py",
   "mimetype": "text/x-python",
   "name": "python",
   "nbconvert_exporter": "python",
   "pygments_lexer": "ipython3",
   "version": "3.6.9"
  }
 },
 "nbformat": 4,
 "nbformat_minor": 5
}
